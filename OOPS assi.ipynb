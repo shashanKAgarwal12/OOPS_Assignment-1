{
 "cells": [
  {
   "cell_type": "markdown",
   "id": "c22b3827-a133-428e-9687-b5e9979b18e1",
   "metadata": {},
   "source": [
    "## Answer No.1\n",
    "The class is the blue print of creating any objects and it provides the structure and behavior that all objects of that class will possess.\n",
    "\n",
    "The object represents a specific entity that is created based on the class definition. Objects have their own unique state and behavior, which are derived from the class they belong to."
   ]
  },
  {
   "cell_type": "code",
   "execution_count": 16,
   "id": "79820e43-61eb-4e37-8929-90be88894d4a",
   "metadata": {},
   "outputs": [],
   "source": [
    "class car :\n",
    "    def __init__(self, brand, color):\n",
    "        self.brand = brand\n",
    "        self.color = color \n",
    "        \n",
    "    def car_number(self,number):\n",
    "        print(f\"The {self.color} {self.brand} car number is {number}\")\n",
    "        \n",
    "car1 = car(\"Hundai\", \"black\")        "
   ]
  },
  {
   "cell_type": "code",
   "execution_count": 5,
   "id": "b3fb0248-392b-47f8-8385-d2d7cb042408",
   "metadata": {},
   "outputs": [
    {
     "data": {
      "text/plain": [
       "'Hundai'"
      ]
     },
     "execution_count": 5,
     "metadata": {},
     "output_type": "execute_result"
    }
   ],
   "source": [
    "car1.brand"
   ]
  },
  {
   "cell_type": "code",
   "execution_count": 6,
   "id": "854a3119-1aa7-40bc-b7d0-a40c6ab7aa26",
   "metadata": {},
   "outputs": [
    {
     "data": {
      "text/plain": [
       "'black'"
      ]
     },
     "execution_count": 6,
     "metadata": {},
     "output_type": "execute_result"
    }
   ],
   "source": [
    "car1.color"
   ]
  },
  {
   "cell_type": "code",
   "execution_count": 18,
   "id": "2d1f56d6-1cfd-4666-b104-b96fcaf64c6c",
   "metadata": {},
   "outputs": [
    {
     "name": "stdout",
     "output_type": "stream",
     "text": [
      "The black Hundai car number is Rj-14 6286k\n"
     ]
    }
   ],
   "source": [
    "car1.car_number(\"Rj-14 6286k\")"
   ]
  },
  {
   "cell_type": "markdown",
   "id": "9b2dc1a5-99e7-4691-babb-6cbd2b3dc992",
   "metadata": {},
   "source": [
    "## Answer No.2\n",
    "The four pillars of OOPs are :\n",
    "1. Polymorphism\n",
    "2. Encapsulation\n",
    "3. Inheritance\n",
    "4. Abstraction"
   ]
  },
  {
   "cell_type": "markdown",
   "id": "9a434a5f-7f11-47b2-b4c9-012cbf636d51",
   "metadata": {},
   "source": [
    "## Answer No.3\n",
    "The __init__() function is used for because it is automatically called the classes when the object is created.\n"
   ]
  },
  {
   "cell_type": "code",
   "execution_count": 19,
   "id": "fae98e6f-521e-4a13-86e6-b06a314d9419",
   "metadata": {},
   "outputs": [],
   "source": [
    "class me:\n",
    "    def __init__(self, name, age):\n",
    "        self.name = name\n",
    "        self.age = age\n",
    "    def about_me(self):\n",
    "        print(f\"My name is {self.name} and my age is {self.age}\")"
   ]
  },
  {
   "cell_type": "code",
   "execution_count": 21,
   "id": "5f0e4f10-ed1b-4257-b0e2-e53060c80555",
   "metadata": {},
   "outputs": [],
   "source": [
    "My_self = me(\"shashank\", \"17\")"
   ]
  },
  {
   "cell_type": "code",
   "execution_count": 23,
   "id": "f1904ee3-06db-4816-bde6-fe18b9d5e736",
   "metadata": {},
   "outputs": [
    {
     "name": "stdout",
     "output_type": "stream",
     "text": [
      "My name is shashank and my age is 17\n"
     ]
    }
   ],
   "source": [
    "My_self.about_me()"
   ]
  },
  {
   "cell_type": "markdown",
   "id": "44e17e2e-afa0-4db4-8a6d-0ded5834296b",
   "metadata": {},
   "source": [
    "## Answer No.4\n",
    "The self is used in oops because the self represents the same class that we created. "
   ]
  },
  {
   "cell_type": "markdown",
   "id": "d5995485-0f9e-4368-8f3f-dc2e76613678",
   "metadata": {},
   "source": [
    "## Answer No.5\n",
    "The inheritance allows a class to inherit attributes and behaviors from another class. It enables code reuse and promotes the concept of \"is-a\" relationships between classes. \n",
    "\n",
    "There are two types of Inheritance:\n",
    "1. single Inheritance\n",
    "2. multiple Inheritance"
   ]
  },
  {
   "cell_type": "code",
   "execution_count": 27,
   "id": "0197fc93-5ed5-4523-8b86-bc30479bdd51",
   "metadata": {},
   "outputs": [],
   "source": [
    "#This is exmple of single inheritance \n",
    "class vehicle:\n",
    "    def driver(self):\n",
    "        print (\"driver is driving a car\")\n",
    "        \n",
    "class car(vehicle):\n",
    "    def car(self):\n",
    "        print (\"This is hundai car\")\n",
    "car = car()       \n"
   ]
  },
  {
   "cell_type": "code",
   "execution_count": 28,
   "id": "550fea6c-30e1-48b9-b02b-20b6fde16ce1",
   "metadata": {},
   "outputs": [
    {
     "name": "stdout",
     "output_type": "stream",
     "text": [
      "driver is driving a car\n"
     ]
    }
   ],
   "source": [
    "car.driver()"
   ]
  },
  {
   "cell_type": "code",
   "execution_count": 29,
   "id": "b1d93df7-9ccd-46bd-afe3-900ec2222cd4",
   "metadata": {},
   "outputs": [
    {
     "name": "stdout",
     "output_type": "stream",
     "text": [
      "This is hundai car\n"
     ]
    }
   ],
   "source": [
    "car.car()"
   ]
  },
  {
   "cell_type": "code",
   "execution_count": 46,
   "id": "cfcb25d0-824b-4794-8688-8cfb5f8ff180",
   "metadata": {},
   "outputs": [],
   "source": [
    "#This is exmple of multiple inheritance \n",
    "class student:\n",
    "    def name(self):\n",
    "        \n",
    "        print (\"The mohan is reading a book\")\n",
    "class student_id:\n",
    "    def id_number(self):\n",
    "      \n",
    "        print (\"The id number is 520\")\n",
    "class student_details(student , student_id):\n",
    "    def details(self):\n",
    "        print (\"this is student details\")"
   ]
  },
  {
   "cell_type": "code",
   "execution_count": 47,
   "id": "57acaa6d-a11e-46a3-ad95-233a22d236dc",
   "metadata": {},
   "outputs": [],
   "source": [
    "Details = student_details()"
   ]
  },
  {
   "cell_type": "code",
   "execution_count": 49,
   "id": "fb6bc5cf-f04a-4411-ba61-79cd442ea63b",
   "metadata": {},
   "outputs": [
    {
     "name": "stdout",
     "output_type": "stream",
     "text": [
      "this is student details\n"
     ]
    }
   ],
   "source": [
    "Details.details()"
   ]
  },
  {
   "cell_type": "code",
   "execution_count": 50,
   "id": "2fcb9adb-15ea-4d0c-9a12-f61b9a210c9b",
   "metadata": {},
   "outputs": [
    {
     "name": "stdout",
     "output_type": "stream",
     "text": [
      "The id number is 520\n"
     ]
    }
   ],
   "source": [
    "Details.id_number()"
   ]
  },
  {
   "cell_type": "code",
   "execution_count": 51,
   "id": "7efda30d-a899-4ed3-9074-7342c0c9bc69",
   "metadata": {},
   "outputs": [
    {
     "name": "stdout",
     "output_type": "stream",
     "text": [
      "The mohan is reading a book\n"
     ]
    }
   ],
   "source": [
    "Details.name()"
   ]
  }
 ],
 "metadata": {
  "kernelspec": {
   "display_name": "Python 3 (ipykernel)",
   "language": "python",
   "name": "python3"
  },
  "language_info": {
   "codemirror_mode": {
    "name": "ipython",
    "version": 3
   },
   "file_extension": ".py",
   "mimetype": "text/x-python",
   "name": "python",
   "nbconvert_exporter": "python",
   "pygments_lexer": "ipython3",
   "version": "3.10.8"
  }
 },
 "nbformat": 4,
 "nbformat_minor": 5
}
